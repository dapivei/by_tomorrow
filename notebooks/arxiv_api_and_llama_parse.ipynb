{
 "cells": [
  {
   "cell_type": "code",
   "execution_count": null,
   "id": "3d6c06db-fad6-4da8-ba6e-2c9fb51a4a2b",
   "metadata": {},
   "outputs": [],
   "source": [
    "# Imports for axiv api\n",
    "from datetime import datetime, timedelta, timezone\n",
    "# Imports for Llama parse\n",
    "from dotenv import load_dotenv\n",
    "load_dotenv()\n",
    "from llama_parse import LlamaParse\n",
    "import requests\n",
    "# Import for both\n",
    "import dr_util.file_utils as fu\n",
    "import os\n",
    "import time"
   ]
  },
  {
   "cell_type": "code",
   "execution_count": 6,
   "id": "841591b5-4686-4f60-9766-148929d42980",
   "metadata": {},
   "outputs": [
    {
     "name": "stdout",
     "output_type": "stream",
     "text": [
      "The autoreload extension is already loaded. To reload it, use:\n",
      "  %reload_ext autoreload\n"
     ]
    }
   ],
   "source": [
    "# This should be the only needed util\n",
    "import logging\n",
    "\n",
    "import bytom.arxiv_utils as xu\n",
    "import bytom.author_profiles as ap\n",
    "\n",
    "%load_ext autoreload\n",
    "%autoreload 2"
   ]
  },
  {
   "cell_type": "code",
   "execution_count": 7,
   "id": "eb745de3-a41c-4df1-a714-d7cba036e968",
   "metadata": {},
   "outputs": [],
   "source": [
    "logging.basicConfig(level=logging.INFO)"
   ]
  },
  {
   "cell_type": "code",
   "execution_count": 12,
   "id": "08979fe2-e281-49e6-8c76-083c1f5a5669",
   "metadata": {},
   "outputs": [],
   "source": [
    "gab_all = ap.get_author_papers('Gabriel Synnaeve', kwargs={\"max_results\": 100})"
   ]
  },
  {
   "cell_type": "code",
   "execution_count": null,
   "id": "1ad257cc-1f32-4e81-8708-250843c4e154",
   "metadata": {},
   "outputs": [],
   "source": []
  },
  {
   "cell_type": "code",
   "execution_count": null,
   "id": "68295a3a-ad6d-46ad-a736-a9e23a8b527e",
   "metadata": {},
   "outputs": [],
   "source": []
  },
  {
   "cell_type": "code",
   "execution_count": null,
   "id": "a2f88f38-6a3c-4cc4-a0ac-eff65468506b",
   "metadata": {},
   "outputs": [],
   "source": []
  },
  {
   "cell_type": "code",
   "execution_count": null,
   "id": "b4b0f47b-d879-495d-af31-c707a5372b87",
   "metadata": {},
   "outputs": [],
   "source": []
  },
  {
   "cell_type": "code",
   "execution_count": null,
   "id": "535730b3-d29c-4394-8030-980afbf5d86d",
   "metadata": {},
   "outputs": [],
   "source": []
  },
  {
   "cell_type": "code",
   "execution_count": null,
   "id": "3422ff3a-e255-421f-9019-80efb965bde1",
   "metadata": {},
   "outputs": [],
   "source": []
  },
  {
   "cell_type": "code",
   "execution_count": null,
   "id": "075fa154-2620-4723-b06e-e4e4afe92d91",
   "metadata": {},
   "outputs": [],
   "source": []
  },
  {
   "cell_type": "code",
   "execution_count": null,
   "id": "59b64f2a-4939-4c10-809f-0f6c1afe6dde",
   "metadata": {},
   "outputs": [],
   "source": []
  },
  {
   "cell_type": "code",
   "execution_count": null,
   "id": "df8e8745-3d22-45d6-8079-24f9156a3d2c",
   "metadata": {},
   "outputs": [],
   "source": []
  },
  {
   "cell_type": "code",
   "execution_count": null,
   "id": "7fc423f0-d339-4100-910d-c49ad3668b45",
   "metadata": {},
   "outputs": [],
   "source": []
  },
  {
   "cell_type": "code",
   "execution_count": null,
   "id": "23dd1e26-cecd-4a8b-a2cd-71c0e5ac8493",
   "metadata": {},
   "outputs": [],
   "source": [
    "# Path constants, make into config\n",
    "RAW_PDF_DIR = \"/Users/daniellerothermel/drotherm/data/raw_pdfs/\"\n",
    "PARSED_PDF_DIR = \"/Users/daniellerothermel/drotherm/data/parsed_pdfs/\"\n",
    "METADATA_DIR = \"/Users/daniellerothermel/drotherm/data/pdf_metadata/\""
   ]
  },
  {
   "cell_type": "markdown",
   "id": "0e492be9-29aa-4355-9b08-0a1eed1dbef1",
   "metadata": {},
   "source": [
    "## Parsing Metrics"
   ]
  },
  {
   "cell_type": "raw",
   "id": "6a713712-a71b-4ad1-86a8-2c62da347797",
   "metadata": {},
   "source": [
    "# count every 10 mins\n",
    "total_parsed = [14, 25, 36, 45, 45, 53, 61, 70, 79, 79, 85, 88, 94, 95, 95, 107, 118, 125, 128, 133, 133, 141, 151, 160, 171, 183, 196, 209, 220, 226, 226, 240, 253, 262, 268, 275, 286, 293, 306, 312, 325]\n",
    "start = total_parsed[0]\n",
    "diffs = []\n",
    "for tp in total_parsed[1:]:\n",
    "    diffs.append(tp - start)\n",
    "    start = tp\n",
    "total = sum(diffs)\n",
    "count = len(diffs)\n",
    "print(f\">> Llama Parse Processed {total*6/count:0.2f} papers/hr or {total/(count*10):0.2f} papers/min on average over a few hours\")"
   ]
  },
  {
   "cell_type": "code",
   "execution_count": null,
   "id": "ae256cfb-e6f6-4900-8730-e0d920fc0a8a",
   "metadata": {},
   "outputs": [],
   "source": []
  },
  {
   "cell_type": "markdown",
   "id": "8d18f4dc-36ce-466b-b542-91061c9564e3",
   "metadata": {},
   "source": [
    "## Util Fxns"
   ]
  },
  {
   "cell_type": "raw",
   "id": "4c8866bf-9d22-42b8-a8b8-ef1fcfae94d3",
   "metadata": {},
   "source": [
    "def make_arxiv_api_query_by_ids(id_list):\n",
    "    assert len(id_list) > 0\n",
    "    \n",
    "    url_base = \"https://export.arxiv.org/api/query\"\n",
    "    query_type = \"id_list\"\n",
    "    id_list_str = \",\".join(id_list)\n",
    "    start = 0\n",
    "    max_results = len(id_list)\n",
    "    return f\"{url_base}?{query_type}={id_list_str}&start={start}&max_results={max_results}\""
   ]
  },
  {
   "cell_type": "raw",
   "id": "e3ade711-926b-4c42-af8d-6bae02ed02f5",
   "metadata": {},
   "source": [
    "def make_arxiv_api_query_by_author(author, max_results=100):\n",
    "    url_base = \"https://export.arxiv.org/api/query\"\n",
    "    query_type = \"search_query\"\n",
    "    query_str = f'au:\"{author.replace(' ', '%20')}\"'\n",
    "    start = 0\n",
    "    sort_str = \"sortBy=submittedDate&sortOrder=descending\"\n",
    "    return f\"{url_base}?{query_type}={query_str}&start={start}&max_results={max_results}&{sort_str}\""
   ]
  },
  {
   "cell_type": "raw",
   "id": "5500e189-caf4-45bb-853b-2e78690f7325",
   "metadata": {},
   "source": [
    "def paper_feed_to_structured_info(p_feed):\n",
    "    if 'entries' in p_feed:\n",
    "        pd = p_feed['entries'][0]\n",
    "    else:\n",
    "        pd = p_feed\n",
    "    pdf_link = None\n",
    "    for ldict in pd['links']:\n",
    "        if ldict.get('title', '') == 'pdf':\n",
    "            pdf_link = ldict['href']\n",
    "    return {\n",
    "        'title': pd['title'],\n",
    "        'abstract': pd['summary'],\n",
    "        'published': pd['published'],\n",
    "        'updated': pd['updated'],\n",
    "        'authors': [a['name'] for a in pd['authors']],\n",
    "        'pdf_link': pdf_link,\n",
    "    }"
   ]
  },
  {
   "cell_type": "code",
   "execution_count": null,
   "id": "83dbaeb8-3fb5-4d6f-84e7-750ec7a60fa5",
   "metadata": {},
   "outputs": [],
   "source": [
    "def filter_dicts_by_years(dict_list, years, date_key):\n",
    "    # Get the current date\n",
    "    today = datetime.now(timezone.utc)\n",
    "    \n",
    "    # Calculate the threshold date (years ago from today)\n",
    "    threshold_date = today - timedelta(days=years*365)  # Approximation for leap years\n",
    "    \n",
    "    # Filter the list of dicts\n",
    "    filtered_dicts = [d for d in dict_list if datetime.strptime(d[date_key], '%Y-%m-%dT%H:%M:%SZ').replace(tzinfo=timezone.utc) >= threshold_date]\n",
    "    \n",
    "    return filtered_dicts"
   ]
  },
  {
   "cell_type": "code",
   "execution_count": null,
   "id": "8e38e9ed-ba91-4f6e-8cf7-2323fcea8b4c",
   "metadata": {},
   "outputs": [],
   "source": [
    "def download_pdf(url, save_path):\n",
    "    \"\"\"\n",
    "    Downloads a PDF from the given URL and saves it to the specified location.\n",
    "    \n",
    "    Args:\n",
    "    url (str): The URL of the PDF to download.\n",
    "    save_path (str): The path (including filename) where the PDF will be saved.\n",
    "    \"\"\"\n",
    "    try:\n",
    "        # Send a GET request to the URL\n",
    "        response = requests.get(url)\n",
    "        \n",
    "        # Check if the request was successful\n",
    "        if response.status_code == 200:\n",
    "            # Write the content to a file in binary mode\n",
    "            with open(save_path, 'wb') as pdf_file:\n",
    "                pdf_file.write(response.content)\n",
    "            print(f\"PDF downloaded and saved to {save_path}\")\n",
    "        else:\n",
    "            print(f\"Failed to download PDF. Status code: {response.status_code}\")\n",
    "    except Exception as e:\n",
    "        print(f\"An error occurred: {e}\")"
   ]
  },
  {
   "cell_type": "code",
   "execution_count": null,
   "id": "6e251570-e125-45ae-a0aa-7456191ec912",
   "metadata": {},
   "outputs": [],
   "source": []
  },
  {
   "cell_type": "markdown",
   "id": "1915db1d-dab8-48b4-9221-05c9e6c1840e",
   "metadata": {},
   "source": [
    "## Combine Util Fxns"
   ]
  },
  {
   "cell_type": "code",
   "execution_count": null,
   "id": "97ede567-0716-4b36-89f2-d81f4789bfc7",
   "metadata": {},
   "outputs": [],
   "source": [
    "def query_dump_download_by_author(author, max_results):\n",
    "    print(f\">> Getting papers from author: {author}\")\n",
    "    # First get all the recent papers by this author, ordered by date\n",
    "    query = xu.build_author_query(author, kwargs={'max_results': max_results})\n",
    "    entries = xu.query_api(query)\n",
    "    #query = make_arxiv_api_query_by_author(author, max_results=max_results)\n",
    "    #parsed_feed = feedparser.parse(query)\n",
    "\n",
    "    print(f\">> Total number papers: {len(entries)}\")\n",
    "    structured_responses = [xu.parse_paper_entry(pent) for pent in entries]\n",
    "    return structured_responses\n",
    "\n",
    "    pdfs_metadata = {}\n",
    "\n",
    "    # Save all structured responses individually by pdf_url info\n",
    "    # then download the pdf to the right location\n",
    "    print(\">> Dumping Metadata and Downloading PDFs\")\n",
    "    for sr  in structured_responses:\n",
    "        pdf_url = sr['pdf_link']\n",
    "        pdf_name = pdf_url.split('/')[-1]\n",
    "        pdfs_metadata[pdf_name] = {**sr}\n",
    "\n",
    "        # Dump metadata\n",
    "        metadata_path = f'{METADATA_DIR}{pdf_name}.json'\n",
    "        fu.dump_file(sr, metadata_path, verbose=False)\n",
    "        pdfs_metadata[pdf_name]['metadata_path'] = metadata_path\n",
    "\n",
    "        # Download the raw PDF\n",
    "        raw_path = f'{RAW_PDF_DIR}{pdf_name}.pdf'\n",
    "        if not os.path.exists(raw_path):\n",
    "            download_pdf(pdf_url.replace(\"arxiv.org\", \"export.arxiv.org\"), raw_path)\n",
    "            time.sleep(4)\n",
    "        pdfs_metadata[pdf_name]['raw_path'] = raw_path\n",
    "\n",
    "        print(f\" - {pdf_name}: {sr['title']}\\n\")\n",
    "\n",
    "    query_metadata = {\n",
    "        'author': author,\n",
    "        'query': query,\n",
    "        'max_results': max_results,\n",
    "        'num_results': len(structured_responses),\n",
    "        'pdfs_metadata': pdfs_metadata,\n",
    "    }\n",
    "    return query_metadata\n",
    "    #fu.dump_file(query_metadata, f'{METADATA_DIR}{author.replace(\" \", \"_\")}_query_metadata.json', verbose=True)"
   ]
  },
  {
   "cell_type": "code",
   "execution_count": null,
   "id": "15995eed-ea0b-499c-a171-c0d44c6fdc81",
   "metadata": {},
   "outputs": [],
   "source": [
    "# Requires the following two lines to run first\n",
    "# import nest_asyncio\n",
    "# nest_asyncio.apply()\n",
    "def load_author_select_recent_llama_parse(author, num_years=2, max_parse=1):\n",
    "    # First load the author metadata\n",
    "    author_metadata_path = f'{METADATA_DIR}{author.replace(\" \", \"_\")}_query_metadata.json'\n",
    "    amd = fu.load_file(author_metadata_path)\n",
    "    all_papers = [{**v, 'name': k} for k, v in amd['pdfs_metadata'].items()]\n",
    "\n",
    "    # Then get the papers from the last N years\n",
    "    recent_papers = filter_dicts_by_years(all_papers, num_years, date_key=\"published\")\n",
    "    print(f\">> {author} has {len(recent_papers)} / {len(all_papers)} in the last {num_years} years\")\n",
    "\n",
    "    parser = LlamaParse(result_type=\"markdown\")\n",
    "\n",
    "    # Then for each paper use llama parse to process and dump the paper\n",
    "    num_parsed = 0\n",
    "    for rp in recent_papers:\n",
    "        if num_parsed >= max_parse:\n",
    "            print(f\">> Reached parse: {num_parsed}, break\")\n",
    "            break\n",
    "        pdf_name = rp['name']\n",
    "        full_pdf_path = rp['raw_path']\n",
    "        parsed_pdf_path = f'{PARSED_PDF_DIR}{pdf_name}.pkl'\n",
    "        #print(f\">> Parsed pdf to write: {parsed_pdf_path}\")\n",
    "        if not os.path.exists(parsed_pdf_path):\n",
    "            print(f\">> Begin parsing number: {num_parsed}\")\n",
    "            rp_docs = parser.load_data(full_pdf_path)\n",
    "            fu.dump_file(rp_docs, parsed_pdf_path, verbose=True)\n",
    "            print(f\" - {len(rp_docs)} blocks for paper: {rp['title']}\")\n",
    "            num_parsed += 1\n",
    "            time.sleep(3)\n",
    "    "
   ]
  },
  {
   "cell_type": "code",
   "execution_count": null,
   "id": "03cc51a8-ddcc-4d65-bea1-6806afaaaa3b",
   "metadata": {},
   "outputs": [],
   "source": []
  },
  {
   "cell_type": "markdown",
   "id": "fc764bb7-a201-49c8-8beb-7d5f8f722ad8",
   "metadata": {},
   "source": [
    "## Test Util Fxns"
   ]
  },
  {
   "cell_type": "code",
   "execution_count": null,
   "id": "40682734-4f8f-4bb9-889d-b712a8a7c568",
   "metadata": {},
   "outputs": [],
   "source": [
    "title = \"Gradient Matching for Domain Generalization\"\n",
    "first_author = \"Yuge Shi\"\n",
    "last_author = \"Gabriel Synnaeve\"\n",
    "arxiv_id = \"2104.09937\"\n",
    "pdf_url = \"https://arxiv.org/pdf/2104.09937\""
   ]
  },
  {
   "cell_type": "code",
   "execution_count": null,
   "id": "0fedaca1-0df7-4319-82fa-e4e8ccacf581",
   "metadata": {},
   "outputs": [],
   "source": [
    "gab_metadata = query_dump_download_by_author(last_author, 22)"
   ]
  },
  {
   "cell_type": "code",
   "execution_count": null,
   "id": "3845919c-d16f-4cc2-b269-196dfcffdc06",
   "metadata": {},
   "outputs": [],
   "source": [
    "gab_metadata[-1]"
   ]
  },
  {
   "cell_type": "markdown",
   "id": "877f3f9c-e775-4334-b88a-371c59b200e8",
   "metadata": {},
   "source": [
    "### Query Single Paper, Extract Data"
   ]
  },
  {
   "cell_type": "code",
   "execution_count": null,
   "id": "5399600f-0140-438a-acca-9344fe5e6346",
   "metadata": {},
   "outputs": [],
   "source": [
    "q1 = make_arxiv_api_query_by_ids([arxiv_id])\n",
    "q1"
   ]
  },
  {
   "cell_type": "code",
   "execution_count": null,
   "id": "fc5dd83e-42c2-463f-8435-ab3d7185b8bb",
   "metadata": {},
   "outputs": [],
   "source": [
    "paper_feed_to_structured_info(feedparser.parse(q1))"
   ]
  },
  {
   "cell_type": "markdown",
   "id": "3023047c-6a3e-43ac-a4fb-b694ee3212a3",
   "metadata": {},
   "source": [
    "### Query Papers by Author"
   ]
  },
  {
   "cell_type": "code",
   "execution_count": null,
   "id": "29715cf9-37c0-42e1-8739-a73a24bc58b2",
   "metadata": {},
   "outputs": [],
   "source": [
    "q2 = make_arxiv_api_query_by_author(last_author, max_results=1000)\n",
    "q2"
   ]
  },
  {
   "cell_type": "code",
   "execution_count": null,
   "id": "80779609-d17c-421d-a71e-7690904468dd",
   "metadata": {},
   "outputs": [],
   "source": [
    "p2s = feedparser.parse(q2)\n",
    "len(p2s['entries'])"
   ]
  },
  {
   "cell_type": "code",
   "execution_count": null,
   "id": "fe104fcf-b8f1-4725-984a-1240dd3ceb1c",
   "metadata": {},
   "outputs": [],
   "source": [
    "parsed_p2s = [paper_feed_to_structured_info(pent) for pent in p2s['entries']]"
   ]
  },
  {
   "cell_type": "code",
   "execution_count": null,
   "id": "98134ae4-feb4-40b5-8086-c3d922ae0ffe",
   "metadata": {},
   "outputs": [],
   "source": [
    "parsed_p2s[-1]"
   ]
  },
  {
   "cell_type": "code",
   "execution_count": null,
   "id": "8e641f81-d829-4df2-a3f6-2a60a4dc28ca",
   "metadata": {},
   "outputs": [],
   "source": [
    "within_2_yrs = filter_dicts_by_years(parsed_p2s, 2, date_key=\"published\")"
   ]
  },
  {
   "cell_type": "code",
   "execution_count": null,
   "id": "c1a48150-53ee-4c21-af8f-1ad5331da373",
   "metadata": {},
   "outputs": [],
   "source": [
    "within_2_yrs[-1]"
   ]
  },
  {
   "cell_type": "markdown",
   "id": "92ff67f9-852e-46a6-8f9e-04b19b7c16c5",
   "metadata": {
    "jp-MarkdownHeadingCollapsed": true
   },
   "source": [
    "### Download PDF and Parse with LlamaParse"
   ]
  },
  {
   "cell_type": "code",
   "execution_count": null,
   "id": "25a41682-82c3-4127-954e-7daff2527deb",
   "metadata": {},
   "outputs": [],
   "source": [
    "pdf_name = pdf_url.split('/')[-1]\n",
    "full_pdf_path = f'{raw_pdf_path}{pdf_name}.pdf'\n",
    "download_pdf(pdf_url, full_pdf_path)"
   ]
  },
  {
   "cell_type": "code",
   "execution_count": null,
   "id": "e70268ec-a10a-4d2a-ae74-1c80c753d404",
   "metadata": {},
   "outputs": [],
   "source": [
    "import nest_asyncio\n",
    "\n",
    "nest_asyncio.apply()"
   ]
  },
  {
   "cell_type": "code",
   "execution_count": null,
   "id": "cc8f5203-6cf0-4fd6-9edc-4270229fe3c2",
   "metadata": {},
   "outputs": [],
   "source": [
    "parser = LlamaParse(result_type=\"markdown\")"
   ]
  },
  {
   "cell_type": "code",
   "execution_count": null,
   "id": "86592865-4736-4898-9438-9d1290c846df",
   "metadata": {},
   "outputs": [],
   "source": [
    "docs = parser.load_data(full_pdf_path)"
   ]
  },
  {
   "cell_type": "code",
   "execution_count": null,
   "id": "590f3822-fab3-4fb8-bfc8-f2ac997cfde9",
   "metadata": {},
   "outputs": [],
   "source": [
    "print(docs[1].text[:1000])"
   ]
  },
  {
   "cell_type": "code",
   "execution_count": null,
   "id": "a2bf53ee-7ea4-4fe1-8e2c-9e9c00e5eedb",
   "metadata": {},
   "outputs": [],
   "source": [
    "full_parsed_pdf_path = f'{parsed_pdf_path}{pdf_name}.pkl'\n",
    "fu.dump_file(docs, full_parsed_pdf_path)"
   ]
  },
  {
   "cell_type": "code",
   "execution_count": null,
   "id": "a903c30a-40cf-462a-9d4a-b78333fa0a82",
   "metadata": {},
   "outputs": [],
   "source": [
    "docs_load = fu.load_file(full_parsed_pdf_path)"
   ]
  },
  {
   "cell_type": "code",
   "execution_count": null,
   "id": "a05a30b2-32b7-45a9-a582-8a482768b590",
   "metadata": {},
   "outputs": [],
   "source": [
    "print(docs_load[1].text[:1000])"
   ]
  },
  {
   "cell_type": "code",
   "execution_count": null,
   "id": "088d555f-9e77-4b92-9194-eb38ba2ae059",
   "metadata": {},
   "outputs": [],
   "source": []
  },
  {
   "cell_type": "markdown",
   "id": "e477aa94-b91f-4cd6-a938-201ee16e8f2b",
   "metadata": {
    "jp-MarkdownHeadingCollapsed": true
   },
   "source": [
    "## Query Arxiv API and Download PDF"
   ]
  },
  {
   "cell_type": "markdown",
   "id": "91f6df06-dfc5-45af-9dc3-32c0db8277ba",
   "metadata": {
    "jp-MarkdownHeadingCollapsed": true
   },
   "source": [
    "#### Pavel Izmailov: 25 (2, 5, 9, 13, 17)"
   ]
  },
  {
   "cell_type": "code",
   "execution_count": null,
   "id": "c7d3b54d-b325-4e99-991f-27edac0f6835",
   "metadata": {},
   "outputs": [],
   "source": [
    "query_dump_download_by_author('Pavel Izmailov', 100)"
   ]
  },
  {
   "cell_type": "code",
   "execution_count": null,
   "id": "0c30a8e0-a782-4533-8c78-8702e995a522",
   "metadata": {},
   "outputs": [],
   "source": []
  },
  {
   "cell_type": "code",
   "execution_count": null,
   "id": "22be02a1-029d-4d5d-ba95-a18b9a56f2f0",
   "metadata": {},
   "outputs": [],
   "source": []
  },
  {
   "cell_type": "markdown",
   "id": "876eeb19-90ed-46e7-bb1d-71ad5251938a",
   "metadata": {
    "jp-MarkdownHeadingCollapsed": true
   },
   "source": [
    "#### Mengye Ren: 47 (10, 12, 14, 26, 36)"
   ]
  },
  {
   "cell_type": "code",
   "execution_count": null,
   "id": "59c8b8dc-7d56-4753-840f-b1c9e7990c6a",
   "metadata": {},
   "outputs": [],
   "source": [
    "query_dump_download_by_author('Mengye Ren', 50)"
   ]
  },
  {
   "cell_type": "code",
   "execution_count": null,
   "id": "2d4a9f08-c635-46a0-aba0-03b7c74a0600",
   "metadata": {},
   "outputs": [],
   "source": []
  },
  {
   "cell_type": "markdown",
   "id": "dc4ee8c2-d5f7-4983-a750-6df40fca7ef4",
   "metadata": {
    "jp-MarkdownHeadingCollapsed": true
   },
   "source": [
    "#### Eunsol Choi: 64 (13, 32, 39, 50, 54)"
   ]
  },
  {
   "cell_type": "code",
   "execution_count": null,
   "id": "10f15bd8-e4f8-4775-9223-b01c66aa16f3",
   "metadata": {},
   "outputs": [],
   "source": [
    "query_dump_download_by_author('Eunsol Choi', 70)"
   ]
  },
  {
   "cell_type": "code",
   "execution_count": null,
   "id": "37f905b0-5972-4b22-8c9e-f34283932167",
   "metadata": {},
   "outputs": [],
   "source": []
  },
  {
   "cell_type": "markdown",
   "id": "afea29fb-acf1-4b05-ab73-582ca4175820",
   "metadata": {
    "jp-MarkdownHeadingCollapsed": true
   },
   "source": [
    "#### Tal Linzen: 64 Papers (11, 19, 26, 35, 44)"
   ]
  },
  {
   "cell_type": "code",
   "execution_count": null,
   "id": "27058146-a6aa-4193-927f-17272895d992",
   "metadata": {},
   "outputs": [],
   "source": [
    "query_dump_download_by_author('Tal Linzen', 1000)"
   ]
  },
  {
   "cell_type": "markdown",
   "id": "03b5c89f-25f8-404f-9eea-c7dce7cf0b54",
   "metadata": {},
   "source": [
    "#### He He: 67 (13, 27, 36, 40, 44)"
   ]
  },
  {
   "cell_type": "code",
   "execution_count": null,
   "id": "c755b070-71c5-434f-a942-0b5f071d50d9",
   "metadata": {},
   "outputs": [],
   "source": [
    "query_dump_download_by_author('He He', 70)"
   ]
  },
  {
   "cell_type": "code",
   "execution_count": null,
   "id": "793d73ff-5bf2-4de6-9f16-aaf63a1c69c1",
   "metadata": {},
   "outputs": [],
   "source": []
  },
  {
   "cell_type": "markdown",
   "id": "df13a36c-0576-4d70-8ac0-92b1414f9526",
   "metadata": {},
   "source": [
    "#### Lerrel Pinto: 68 (14, 23, 34, 43, 53)"
   ]
  },
  {
   "cell_type": "code",
   "execution_count": null,
   "id": "da66f940-4e42-49df-acdc-54a896144f6f",
   "metadata": {},
   "outputs": [],
   "source": [
    "query_dump_download_by_author('Lerrel Pinto', 70)"
   ]
  },
  {
   "cell_type": "code",
   "execution_count": null,
   "id": "4ff67574-9091-4cfd-9348-8db022386e0b",
   "metadata": {},
   "outputs": [],
   "source": []
  },
  {
   "cell_type": "markdown",
   "id": "591ef210-8c5a-438d-bb12-a92e9ff302c4",
   "metadata": {},
   "source": [
    "#### Rajesh Ranganath: 70 (8, 18, 28, 35, 40)"
   ]
  },
  {
   "cell_type": "code",
   "execution_count": null,
   "id": "a43cd1e7-c85e-4027-970f-6288a5baaa25",
   "metadata": {},
   "outputs": [],
   "source": [
    "query_dump_download_by_author('Rajesh Ranganath', 80)"
   ]
  },
  {
   "cell_type": "markdown",
   "id": "30560de5-e7d9-460f-9e37-ff0f2ca9bba8",
   "metadata": {},
   "source": [
    "#### Kyunghyun Cho: 272 (30, 64, 85, 106, 134)"
   ]
  },
  {
   "cell_type": "code",
   "execution_count": null,
   "id": "5bd0a312-4b27-423e-a721-c8a14ff13d5b",
   "metadata": {},
   "outputs": [],
   "source": [
    "query_dump_download_by_author('Kyunghyun Cho', 1000)"
   ]
  },
  {
   "cell_type": "code",
   "execution_count": null,
   "id": "7fb3ee0e-d217-4812-852f-23a8a823ee6a",
   "metadata": {},
   "outputs": [],
   "source": []
  },
  {
   "cell_type": "markdown",
   "id": "efb4a885-243a-4e08-840a-a9de29335f97",
   "metadata": {
    "jp-MarkdownHeadingCollapsed": true
   },
   "source": [
    "## Test Llama Parse Per-Author on Most Recent Papers"
   ]
  },
  {
   "cell_type": "code",
   "execution_count": null,
   "id": "d0eaf200-5606-49b4-a5a0-7d303ab0bbe4",
   "metadata": {},
   "outputs": [],
   "source": [
    "import nest_asyncio\n",
    "nest_asyncio.apply()"
   ]
  },
  {
   "cell_type": "code",
   "execution_count": null,
   "id": "aaa0432f-339c-497b-891c-cc4624c40e4d",
   "metadata": {},
   "outputs": [],
   "source": [
    "MAX_PARSE=1"
   ]
  },
  {
   "cell_type": "code",
   "execution_count": null,
   "id": "5eb39f57-1f54-4415-ac54-9dce870b2c22",
   "metadata": {},
   "outputs": [],
   "source": [
    "load_author_select_recent_llama_parse(\"Tal Linzen\", num_years=5, max_parse=MAX_PARSE)"
   ]
  },
  {
   "cell_type": "code",
   "execution_count": null,
   "id": "da417c98-256d-4b0c-ae62-0fe758678c36",
   "metadata": {},
   "outputs": [],
   "source": [
    "load_author_select_recent_llama_parse(\"Pavel Izmailov\", num_years=5, max_parse=MAX_PARSE)"
   ]
  },
  {
   "cell_type": "code",
   "execution_count": null,
   "id": "b942f5f6-46fb-445a-ab3a-a52d94f81174",
   "metadata": {},
   "outputs": [],
   "source": [
    "load_author_select_recent_llama_parse(\"Lerrel Pinto\", num_years=5, max_parse=MAX_PARSE)"
   ]
  },
  {
   "cell_type": "code",
   "execution_count": null,
   "id": "047491bd-4de0-41d1-8171-22c3346841a4",
   "metadata": {},
   "outputs": [],
   "source": [
    "load_author_select_recent_llama_parse(\"Kyunghyun Cho\", num_years=5, max_parse=MAX_PARSE)"
   ]
  },
  {
   "cell_type": "code",
   "execution_count": null,
   "id": "afa04fa7-3cf9-435b-802b-2b079884b9d8",
   "metadata": {},
   "outputs": [],
   "source": [
    "load_author_select_recent_llama_parse(\"Mengye Ren\", num_years=5, max_parse=MAX_PARSE)"
   ]
  },
  {
   "cell_type": "code",
   "execution_count": null,
   "id": "912c0b48-6043-41a2-9e3d-405ec30a1cf1",
   "metadata": {},
   "outputs": [],
   "source": [
    "load_author_select_recent_llama_parse(\"Rajesh Ranganath\", num_years=5, max_parse=MAX_PARSE)"
   ]
  },
  {
   "cell_type": "code",
   "execution_count": null,
   "id": "5726a041-b319-4bfa-9632-df16ef4bab25",
   "metadata": {},
   "outputs": [],
   "source": [
    "load_author_select_recent_llama_parse(\"Eunsol Choi\", num_years=5, max_parse=MAX_PARSE)"
   ]
  },
  {
   "cell_type": "code",
   "execution_count": null,
   "id": "5770756b-fb90-4e49-b5b1-bc6c23acbca0",
   "metadata": {},
   "outputs": [],
   "source": [
    "load_author_select_recent_llama_parse(\"He He\", num_years=5, max_parse=MAX_PARSE)"
   ]
  },
  {
   "cell_type": "code",
   "execution_count": null,
   "id": "2c13b5eb-b759-4a99-9f3d-0053fc3483d4",
   "metadata": {},
   "outputs": [],
   "source": []
  },
  {
   "cell_type": "code",
   "execution_count": null,
   "id": "74cff833-878e-4dce-80b9-9ccd97127de2",
   "metadata": {},
   "outputs": [],
   "source": [
    "pdfn = '2409.04556v1'\n",
    "read_doc = fu.load_file(f'{PARSED_PDF_DIR}{pdfn}.pkl')\n",
    "print(read_doc[1].text)"
   ]
  },
  {
   "cell_type": "code",
   "execution_count": null,
   "id": "e2a68163-24e1-4f07-ba8c-7c300bb9ed79",
   "metadata": {},
   "outputs": [],
   "source": []
  },
  {
   "cell_type": "markdown",
   "id": "27380645-0f8f-4cbc-8b48-546ec3e5d566",
   "metadata": {
    "jp-MarkdownHeadingCollapsed": true
   },
   "source": [
    "## Run Llama Parse on All Authors top 50 papers in last 5 years"
   ]
  },
  {
   "cell_type": "code",
   "execution_count": null,
   "id": "6759c3dc-072a-4791-a036-e4069c0ed837",
   "metadata": {},
   "outputs": [],
   "source": [
    "MAX_PARSE = 1\n",
    "for r in range(50):\n",
    "    for author in [\n",
    "        \"Tal Linzen\",\n",
    "        \"Pavel Izmailov\",\n",
    "        \"Lerrel Pinto\",\n",
    "        \"Kyunghyun Cho\",\n",
    "        \"Mengye Ren\",\n",
    "        \"Rajesh Ranganath\",\n",
    "        \"Eunsol Choi\",\n",
    "        \"He He\",\n",
    "    ]:\n",
    "        load_author_select_recent_llama_parse(author, num_years=5, max_parse=MAX_PARSE)\n",
    "    \n",
    "    "
   ]
  },
  {
   "cell_type": "code",
   "execution_count": null,
   "id": "b306bff2-da4c-40e2-93ef-19b00cbedd88",
   "metadata": {},
   "outputs": [],
   "source": []
  }
 ],
 "metadata": {
  "kernelspec": {
   "display_name": "Python 3 (ipykernel)",
   "language": "python",
   "name": "python3"
  },
  "language_info": {
   "codemirror_mode": {
    "name": "ipython",
    "version": 3
   },
   "file_extension": ".py",
   "mimetype": "text/x-python",
   "name": "python",
   "nbconvert_exporter": "python",
   "pygments_lexer": "ipython3",
   "version": "3.12.5"
  }
 },
 "nbformat": 4,
 "nbformat_minor": 5
}
